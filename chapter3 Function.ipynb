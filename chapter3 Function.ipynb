{
 "cells": [
  {
   "cell_type": "markdown",
   "metadata": {
    "toc": true
   },
   "source": [
    "<h1>Chapter3<span class=\"tocSkip\"></span></h1>\n",
    "<div class=\"toc\"><ul class=\"toc-item\"><li><span><a href=\"#Fuction-Basics\" data-toc-modified-id=\"Fuction-Basics-1\"><span class=\"toc-item-num\">1&nbsp;&nbsp;</span>Fuction Basics</a></span><ul class=\"toc-item\"><li><span><a href=\"#usage-:-declaration-&amp;-call\" data-toc-modified-id=\"usage-:-declaration-&amp;-call-1.1\"><span class=\"toc-item-num\">1.1&nbsp;&nbsp;</span>usage : declaration &amp; call</a></span><ul class=\"toc-item\"><li><span><a href=\"#declaration\" data-toc-modified-id=\"declaration-1.1.1\"><span class=\"toc-item-num\">1.1.1&nbsp;&nbsp;</span>declaration</a></span></li><li><span><a href=\"#function-call\" data-toc-modified-id=\"function-call-1.1.2\"><span class=\"toc-item-num\">1.1.2&nbsp;&nbsp;</span>function call</a></span></li></ul></li><li><span><a href=\"#function-execution-order\" data-toc-modified-id=\"function-execution-order-1.2\"><span class=\"toc-item-num\">1.2&nbsp;&nbsp;</span>function execution order</a></span></li><li><span><a href=\"#math\" data-toc-modified-id=\"math-1.3\"><span class=\"toc-item-num\">1.3&nbsp;&nbsp;</span>math</a></span></li><li><span><a href=\"#function-form\" data-toc-modified-id=\"function-form-1.4\"><span class=\"toc-item-num\">1.4&nbsp;&nbsp;</span>function form</a></span></li></ul></li><li><span><a href=\"#Fuction\" data-toc-modified-id=\"Fuction-2\"><span class=\"toc-item-num\">2&nbsp;&nbsp;</span>Fuction</a></span><ul class=\"toc-item\"><li><span><a href=\"#python-:-call-by-object-reference(-or-passed-by-assignment-)\" data-toc-modified-id=\"python-:-call-by-object-reference(-or-passed-by-assignment-)-2.1\"><span class=\"toc-item-num\">2.1&nbsp;&nbsp;</span>python : call by object reference( or passed by assignment )</a></span></li><li><span><a href=\"#variable-scope\" data-toc-modified-id=\"variable-scope-2.2\"><span class=\"toc-item-num\">2.2&nbsp;&nbsp;</span>variable scope</a></span></li><li><span><a href=\"#recursive-function\" data-toc-modified-id=\"recursive-function-2.3\"><span class=\"toc-item-num\">2.3&nbsp;&nbsp;</span>recursive function</a></span></li></ul></li><li><span><a href=\"#좋은-코드를-작성하는-방법-:-PEP-8-(Python-Enhance-Proposal-8)\" data-toc-modified-id=\"좋은-코드를-작성하는-방법-:-PEP-8-(Python-Enhance-Proposal-8)-3\"><span class=\"toc-item-num\">3&nbsp;&nbsp;</span>좋은 코드를 작성하는 방법 : PEP 8 (Python Enhance Proposal 8)</a></span><ul class=\"toc-item\"><li><span><a href=\"#variable\" data-toc-modified-id=\"variable-3.1\"><span class=\"toc-item-num\">3.1&nbsp;&nbsp;</span>variable</a></span></li><li><span><a href=\"#function\" data-toc-modified-id=\"function-3.2\"><span class=\"toc-item-num\">3.2&nbsp;&nbsp;</span>function</a></span><ul class=\"toc-item\"><li><span><a href=\"#good-naming\" data-toc-modified-id=\"good-naming-3.2.1\"><span class=\"toc-item-num\">3.2.1&nbsp;&nbsp;</span>good naming</a></span></li><li><span><a href=\"#reusability\" data-toc-modified-id=\"reusability-3.2.2\"><span class=\"toc-item-num\">3.2.2&nbsp;&nbsp;</span>reusability</a></span></li><li><span><a href=\"#readability\" data-toc-modified-id=\"readability-3.2.3\"><span class=\"toc-item-num\">3.2.3&nbsp;&nbsp;</span>readability</a></span></li></ul></li></ul></li><li><span><a href=\"#example(coding-test)\" data-toc-modified-id=\"example(coding-test)-4\"><span class=\"toc-item-num\">4&nbsp;&nbsp;</span>example(coding test)</a></span><ul class=\"toc-item\"><li><span><a href=\"#최대와-최소-사이(함수버전)\" data-toc-modified-id=\"최대와-최소-사이(함수버전)-4.1\"><span class=\"toc-item-num\">4.1&nbsp;&nbsp;</span>최대와 최소 사이(함수버전)</a></span></li><li><span><a href=\"#나만의-수식-함수\" data-toc-modified-id=\"나만의-수식-함수-4.2\"><span class=\"toc-item-num\">4.2&nbsp;&nbsp;</span>나만의 수식 함수</a></span></li><li><span><a href=\"#체지량-지수\" data-toc-modified-id=\"체지량-지수-4.3\"><span class=\"toc-item-num\">4.3&nbsp;&nbsp;</span>체지량 지수</a></span></li><li><span><a href=\"#(도전!)-등차-수열의-합\" data-toc-modified-id=\"(도전!)-등차-수열의-합-4.4\"><span class=\"toc-item-num\">4.4&nbsp;&nbsp;</span>(도전!) 등차 수열의 합</a></span></li></ul></li></ul></div>"
   ]
  },
  {
   "cell_type": "code",
   "execution_count": 1,
   "metadata": {},
   "outputs": [],
   "source": [
    "#자동으로 해주는 변수 자료형 변환 dynamic, implicit\n",
    "#수동으로 해야하는 explicit"
   ]
  },
  {
   "cell_type": "markdown",
   "metadata": {},
   "source": [
    "# Fuction Basics"
   ]
  },
  {
   "cell_type": "markdown",
   "metadata": {},
   "source": [
    "## usage : declaration & call"
   ]
  },
  {
   "cell_type": "markdown",
   "metadata": {},
   "source": [
    "### declaration"
   ]
  },
  {
   "cell_type": "code",
   "execution_count": 2,
   "metadata": {
    "ExecuteTime": {
     "end_time": "2021-10-18T12:33:08.945305Z",
     "start_time": "2021-10-18T12:33:08.935495Z"
    }
   },
   "outputs": [],
   "source": [
    "#f(x) = 3*x + 5\n",
    "# y = f(x)\n",
    "# z = f(7)\n",
    "\n",
    "def f(x):\n",
    "    result = 3*x + 5\n",
    "    #\n",
    "    #\n",
    "    return result"
   ]
  },
  {
   "cell_type": "code",
   "execution_count": 3,
   "metadata": {},
   "outputs": [
    {
     "data": {
      "text/plain": [
       "20"
      ]
     },
     "execution_count": 3,
     "metadata": {},
     "output_type": "execute_result"
    }
   ],
   "source": [
    "f(5) #call"
   ]
  },
  {
   "cell_type": "markdown",
   "metadata": {},
   "source": [
    "    함수에서 선언의 또다른 예시"
   ]
  },
  {
   "cell_type": "code",
   "execution_count": 4,
   "metadata": {
    "ExecuteTime": {
     "end_time": "2021-10-18T12:33:11.656976Z",
     "start_time": "2021-10-18T12:33:11.654239Z"
    }
   },
   "outputs": [
    {
     "data": {
      "text/plain": [
       "8"
      ]
     },
     "execution_count": 4,
     "metadata": {},
     "output_type": "execute_result"
    }
   ],
   "source": [
    "def solution(x,y):\n",
    "    return x+y\n",
    "\n",
    "solution(3,5)\n"
   ]
  },
  {
   "cell_type": "markdown",
   "metadata": {},
   "source": [
    "### function call"
   ]
  },
  {
   "cell_type": "code",
   "execution_count": 5,
   "metadata": {
    "ExecuteTime": {
     "end_time": "2021-10-18T12:33:33.505441Z",
     "start_time": "2021-10-18T12:33:33.502610Z"
    }
   },
   "outputs": [
    {
     "data": {
      "text/plain": [
       "18"
      ]
     },
     "execution_count": 5,
     "metadata": {},
     "output_type": "execute_result"
    }
   ],
   "source": [
    "def calculate_rectangle_area(x,y):\n",
    "    return x*y\n",
    "\n",
    "calculate_rectangle_area(x=3,y=6)  \n",
    "#괄호 안에 있는 것 : 인수-Argument\n",
    "#keyword 선언할 때는 실제 변수와 똑같아야함"
   ]
  },
  {
   "cell_type": "markdown",
   "metadata": {},
   "source": [
    "## function execution order"
   ]
  },
  {
   "cell_type": "code",
   "execution_count": 6,
   "metadata": {
    "ExecuteTime": {
     "end_time": "2021-10-18T12:33:38.232622Z",
     "start_time": "2021-10-18T12:33:38.228445Z"
    },
    "scrolled": true
   },
   "outputs": [
    {
     "data": {
      "text/plain": [
       "function"
      ]
     },
     "execution_count": 6,
     "metadata": {},
     "output_type": "execute_result"
    }
   ],
   "source": [
    "#function이 객체로 되어 있는지 확인하는 방법\n",
    "type(solution)"
   ]
  },
  {
   "cell_type": "code",
   "execution_count": 7,
   "metadata": {},
   "outputs": [
    {
     "data": {
      "text/plain": [
       "2185403504384"
      ]
     },
     "execution_count": 7,
     "metadata": {},
     "output_type": "execute_result"
    }
   ],
   "source": [
    "#메모리도 할당되어 있음\n",
    "id(solution)"
   ]
  },
  {
   "cell_type": "code",
   "execution_count": 8,
   "metadata": {},
   "outputs": [
    {
     "data": {
      "text/plain": [
       "'0x1fcd4331700'"
      ]
     },
     "execution_count": 8,
     "metadata": {},
     "output_type": "execute_result"
    }
   ],
   "source": [
    "#숫자가 보기 너무 힘드니까 현업에서는 16진수로 표현함\n",
    "hex(id(solution))"
   ]
  },
  {
   "cell_type": "code",
   "execution_count": 9,
   "metadata": {},
   "outputs": [],
   "source": [
    "#가비지 컬렉터??"
   ]
  },
  {
   "cell_type": "code",
   "execution_count": 10,
   "metadata": {
    "scrolled": true
   },
   "outputs": [
    {
     "name": "stdout",
     "output_type": "stream",
     "text": [
      "x=10\n",
      "y=20\n",
      "In func\n",
      "area=200\n",
      "In func\n",
      "200\n"
     ]
    }
   ],
   "source": [
    "def calculate_rectangle_area(x,y):\n",
    "    print(\"In func\")\n",
    "    return x*y\n",
    "\n",
    "x = 10\n",
    "y = 20\n",
    "print(f\"x={x}\") #문자열을 반환함\n",
    "print(f\"y={y}\")\n",
    "\n",
    "print(f\"area={calculate_rectangle_area(x,y)}\")\n",
    "area = calculate_rectangle_area(x,y)\n",
    "print(area)"
   ]
  },
  {
   "cell_type": "markdown",
   "metadata": {
    "ExecuteTime": {
     "end_time": "2021-08-31T12:18:55.112085Z",
     "start_time": "2021-08-31T12:18:55.106953Z"
    }
   },
   "source": [
    "## math \n",
    "https://towardsdatascience.com/write-markdown-latex-in-the-jupyter-notebook-10985edb91fd"
   ]
  },
  {
   "cell_type": "markdown",
   "metadata": {},
   "source": [
    "$\n",
    "x = 2 조건에서.. f(x)=2x+7, g(x) = x^2 일때\\\\\\\\\n",
    "f(x) + g(x) + f(g(x)) + g(f(x))의 값은??\n",
    "$"
   ]
  },
  {
   "cell_type": "code",
   "execution_count": 11,
   "metadata": {
    "ExecuteTime": {
     "end_time": "2021-10-18T12:33:52.349743Z",
     "start_time": "2021-10-18T12:33:52.346305Z"
    }
   },
   "outputs": [
    {
     "data": {
      "text/plain": [
       "151"
      ]
     },
     "execution_count": 11,
     "metadata": {},
     "output_type": "execute_result"
    }
   ],
   "source": [
    "def f(x):\n",
    "    return 2*x + 7\n",
    "\n",
    "def g(x):\n",
    "    return x**2\n",
    "\n",
    "def calculate_complex(x):\n",
    "    return f(x) + g(x) + f(g(x)) + g(f(x))\n",
    "\n",
    "x = 2\n",
    "calculate_complex(2) "
   ]
  },
  {
   "cell_type": "markdown",
   "metadata": {},
   "source": [
    "## function form\n",
    "    -리턴구문 없는 경우, 암묵적으로 None값을 리턴한다\n",
    "    "
   ]
  },
  {
   "cell_type": "code",
   "execution_count": 12,
   "metadata": {
    "ExecuteTime": {
     "end_time": "2021-10-18T12:33:58.077609Z",
     "start_time": "2021-10-18T12:33:58.073757Z"
    }
   },
   "outputs": [
    {
     "name": "stdout",
     "output_type": "stream",
     "text": [
      "5\n"
     ]
    }
   ],
   "source": [
    "#parameter의 유무, return의 유무로 4가지로 나뉨\n",
    "\n",
    "def f1(x):\n",
    "    return x\n",
    "\n",
    "def f2(x):       #입력이 들어오는데 입력값에 문제가 있을 때. 입력값 체크 로직에 쓰임\n",
    "    pass\n",
    "\n",
    "x=5\n",
    "def f3():        #global한 값을 쓴다면 이렇게 쓴다. 전역적인 것이 개입될 때, x=5는 전역변수임.\n",
    "    print(x)\n",
    "    return \"\"\n",
    "f3()\n",
    "\n",
    "def f4():     \n",
    "    pass"
   ]
  },
  {
   "cell_type": "markdown",
   "metadata": {},
   "source": [
    "# Fuction"
   ]
  },
  {
   "cell_type": "markdown",
   "metadata": {},
   "source": [
    "## python : call by object reference( or passed by assignment )"
   ]
  },
  {
   "cell_type": "code",
   "execution_count": 13,
   "metadata": {
    "ExecuteTime": {
     "end_time": "2021-10-18T12:34:33.412847Z",
     "start_time": "2021-10-18T12:34:33.408850Z"
    }
   },
   "outputs": [
    {
     "name": "stdout",
     "output_type": "stream",
     "text": [
      "1\n"
     ]
    }
   ],
   "source": [
    "# argument를 어떻게 받겠느냐?\n",
    "\n",
    "# call by reference : 연결되어있다 : reference가 동작되려면 같은 메모리를 사용해야한다.\n",
    "def f222(input_arg):\n",
    "    input_arg = 7 \n",
    "    \n",
    "input_arg = 1\n",
    "f222(input_arg)\n",
    "\n",
    "print(input_arg) #7"
   ]
  },
  {
   "cell_type": "code",
   "execution_count": 14,
   "metadata": {},
   "outputs": [
    {
     "name": "stdout",
     "output_type": "stream",
     "text": [
      "1\n"
     ]
    }
   ],
   "source": [
    "#call by value : copy 컨셉을 이용한다 (이때까지 앞에서 한거) \n",
    "def f222(input_arg):\n",
    "    input_arg = 7 \n",
    "    \n",
    "input_arg = 1\n",
    "f222(input_arg)\n",
    "\n",
    "print(input_arg) #1"
   ]
  },
  {
   "cell_type": "markdown",
   "metadata": {},
   "source": [
    "## variable scope"
   ]
  },
  {
   "cell_type": "code",
   "execution_count": 15,
   "metadata": {
    "ExecuteTime": {
     "end_time": "2021-10-18T12:34:39.458205Z",
     "start_time": "2021-10-18T12:34:39.449019Z"
    }
   },
   "outputs": [
    {
     "name": "stdout",
     "output_type": "stream",
     "text": [
      "10000000 0x1fcd434c0b0\n",
      "In func 10000000 0x1fcd434c5d0\n"
     ]
    }
   ],
   "source": [
    "#전역 scope\n",
    "global_x=10000000\n",
    "print(global_x, hex(id(global_x)))\n",
    "\n",
    "\n",
    "#지역 scope : 파이썬에서는 함수에만 있음\n",
    "def print_hello(message):\n",
    "    x=10000000\n",
    "    print('In func', x , hex(id(x)))\n",
    "    new_message = 'new'    #new_message는 함수 내에서만 사용이 됨\n",
    "    return                 #return이 되는 순간 메모리가 해제된다\n",
    "                           #지역이 전역보다 할당 순서가 먼저다\n",
    "print_hello(\"1\")"
   ]
  },
  {
   "cell_type": "code",
   "execution_count": 16,
   "metadata": {},
   "outputs": [
    {
     "name": "stdout",
     "output_type": "stream",
     "text": [
      "In func 5 0x1fccf7869b0\n",
      "Out func 5 0x1fccf7869b0\n"
     ]
    }
   ],
   "source": [
    "#지역 scope : 파이썬에서는 함수에만 있음\n",
    "def print_hello(message):\n",
    "    global global_x   #전역변수를 사용하겠다\n",
    "    global_x=10000000\n",
    "    print('In func', x , hex(id(x)))\n",
    "    new_message = 'new'    #new_message는 함수 내에서만 사용이 됨\n",
    "    return                 #return이 되는 순간 메모리가 해제된다\n",
    "                           #지역이 전역보다 할당 순서가 먼저다\n",
    "print_hello(\"1\")\n",
    "print('Out func', x , hex(id(x)))"
   ]
  },
  {
   "cell_type": "code",
   "execution_count": 17,
   "metadata": {},
   "outputs": [],
   "source": [
    "#data dependancy"
   ]
  },
  {
   "cell_type": "markdown",
   "metadata": {},
   "source": [
    "## recursive function\n",
    "    - factorial"
   ]
  },
  {
   "cell_type": "code",
   "execution_count": 18,
   "metadata": {
    "ExecuteTime": {
     "end_time": "2021-10-18T12:35:13.510501Z",
     "start_time": "2021-10-18T12:35:11.084451Z"
    }
   },
   "outputs": [
    {
     "data": {
      "text/plain": [
       "24"
      ]
     },
     "execution_count": 18,
     "metadata": {},
     "output_type": "execute_result"
    }
   ],
   "source": [
    "def f(x):\n",
    "    if x == 1:\n",
    "        return 1\n",
    "    else :\n",
    "        return x*f(x-1)\n",
    "\n",
    "f(4) #제동을 잊지 마세요"
   ]
  },
  {
   "cell_type": "markdown",
   "metadata": {},
   "source": [
    "# 좋은 코드를 작성하는 방법 : PEP 8 (Python Enhance Proposal 8)\n",
    "https://www.python.org/dev/peps/pep-0008/"
   ]
  },
  {
   "cell_type": "markdown",
   "metadata": {},
   "source": [
    "abstraction https://chodragon9.github.io/blog/abstract/#%EC%9D%BC%EB%B0%98%ED%99%94"
   ]
  },
  {
   "cell_type": "markdown",
   "metadata": {},
   "source": [
    "## variable"
   ]
  },
  {
   "cell_type": "code",
   "execution_count": 19,
   "metadata": {
    "ExecuteTime": {
     "end_time": "2023-03-16T07:58:59.200070Z",
     "start_time": "2023-03-16T07:58:59.198030Z"
    }
   },
   "outputs": [],
   "source": [
    "variable_example  =    12 #bad\n",
    "variable_example = 12 #good"
   ]
  },
  {
   "cell_type": "code",
   "execution_count": 20,
   "metadata": {
    "ExecuteTime": {
     "end_time": "2023-03-16T07:58:59.371232Z",
     "start_time": "2023-03-16T07:58:59.368915Z"
    }
   },
   "outputs": [],
   "source": [
    "lio0 = \"Hard to Understand\" #bad  \"L\", \"I\", 0, \"o\" 는 헷갈리니까 피하자"
   ]
  },
  {
   "cell_type": "markdown",
   "metadata": {},
   "source": [
    "## function"
   ]
  },
  {
   "cell_type": "markdown",
   "metadata": {},
   "source": [
    "### good naming"
   ]
  },
  {
   "cell_type": "code",
   "execution_count": 21,
   "metadata": {
    "ExecuteTime": {
     "end_time": "2023-03-16T07:58:59.990671Z",
     "start_time": "2023-03-16T07:58:59.988698Z"
    }
   },
   "outputs": [],
   "source": [
    "#print, get, set, run, make, delete, remove, create, prepare,...\n",
    "def run_work_rev():\n",
    "    pass"
   ]
  },
  {
   "cell_type": "code",
   "execution_count": 35,
   "metadata": {
    "ExecuteTime": {
     "end_time": "2021-10-18T12:35:29.977940Z",
     "start_time": "2021-10-18T12:35:29.975214Z"
    }
   },
   "outputs": [
    {
     "name": "stdout",
     "output_type": "stream",
     "text": [
      "In func: 3 5\n",
      "In func: 3 5\n",
      "In func: 3 5\n"
     ]
    },
    {
     "data": {
      "text/plain": [
       "8"
      ]
     },
     "execution_count": 35,
     "metadata": {},
     "output_type": "execute_result"
    }
   ],
   "source": [
    "def add_var_simple(x,y,DEBUG = True): \n",
    "    if DEBUG:\n",
    "        print(\"In func:\", x,y)\n",
    "    return x+y\n",
    "\n",
    "add_var_simple(3,5)\n",
    "add_var_simple(3,5,True)\n",
    "#add_var_simple(3,y=5,True) #error : keyword쓸 꺼면 다 써야함\n",
    "add_var_simple(x=3,y=5,DEBUG = True)"
   ]
  },
  {
   "cell_type": "markdown",
   "metadata": {},
   "source": [
    "### reusability"
   ]
  },
  {
   "cell_type": "code",
   "execution_count": 39,
   "metadata": {
    "ExecuteTime": {
     "end_time": "2021-10-18T12:35:30.976836Z",
     "start_time": "2021-10-18T12:35:30.973131Z"
    }
   },
   "outputs": [
    {
     "name": "stdout",
     "output_type": "stream",
     "text": [
      "Hello World\n",
      "Hello World\n",
      "Hello World\n",
      "Hello World\n",
      "Hello World\n",
      "Hello World\n",
      "Hello World\n",
      "Hello World\n",
      "hello_world!\n"
     ]
    }
   ],
   "source": [
    "#재활용성\n",
    "print(\"Hello World\")\n",
    "print(\"Hello World\")\n",
    "\n",
    "print(\"Hello World\")\n",
    "print(\"Hello World\")\n",
    "\n",
    "print(\"Hello World\")\n",
    "print(\"Hello World\")\n",
    "\n",
    "print(\"Hello World\")\n",
    "print(\"Hello World\")\n",
    "\n",
    "# ! 추가하고 싶으면 일일히 다 ! 써줘야함 \n",
    "\n",
    "def print_hello():\n",
    "    print(\"hello_world!\")\n",
    "    return\n",
    "\n",
    "print_hello()"
   ]
  },
  {
   "cell_type": "markdown",
   "metadata": {},
   "source": [
    "### readability"
   ]
  },
  {
   "cell_type": "code",
   "execution_count": null,
   "metadata": {
    "ExecuteTime": {
     "end_time": "2021-10-18T12:35:37.317184Z",
     "start_time": "2021-10-18T12:35:37.312126Z"
    }
   },
   "outputs": [],
   "source": [
    "#가독성 : 함수의 추상화 레벨을 얼마나 잘 정의하느냐? \n",
    "#함수의 추상화의 정도를 파악하는 기준 : 기능 단위 \n",
    "#응집성 : 특징이 있는 것들로 묶어야함\n",
    "\n",
    "\n",
    "#run()\n",
    "##filtered_input = preprocess(raw_input)\n",
    "###filter_noise_sensor(raw_sensor)\n",
    "#####file = open()\n",
    "###filter_image()\n",
    "\n",
    "##bumps = process(filtered_input)\n",
    "##ret = post_process(bumps, old_bumps)"
   ]
  },
  {
   "cell_type": "markdown",
   "metadata": {},
   "source": [
    "# example(coding test)\n",
    "http://13.124.240.246/contest/57"
   ]
  },
  {
   "cell_type": "markdown",
   "metadata": {},
   "source": [
    "## 최대와 최소 사이(함수버전)\n",
    "    임의 정수 데이터 3개(a,b,c)가 입력으로 들어올 때,최대값과_최소값이_차이를 출력하세요."
   ]
  },
  {
   "cell_type": "code",
   "execution_count": 22,
   "metadata": {},
   "outputs": [
    {
     "data": {
      "text/plain": [
       "2"
      ]
     },
     "execution_count": 22,
     "metadata": {},
     "output_type": "execute_result"
    }
   ],
   "source": [
    "def max_min_contrast(a,b,c):\n",
    "    Max = max(a,b,c)\n",
    "    Min = min(a,b,c)\n",
    "    return Max - Min\n",
    "    \n",
    "\n",
    "max_min_contrast(1,2,3)"
   ]
  },
  {
   "cell_type": "code",
   "execution_count": null,
   "metadata": {},
   "outputs": [],
   "source": [
    "def get_max(a, b, c):\n",
    "  Max = max(a,b,c)\n",
    "  return Max\n",
    "\n",
    "def get_min(a, b, c):\n",
    "  Min = min(a,b,c)\n",
    "  return Min\n",
    "\n",
    "def solution(a, b, c):\n",
    "  return get_max(a,b,c) - get_min(a,b,c)"
   ]
  },
  {
   "cell_type": "markdown",
   "metadata": {},
   "source": [
    "## 나만의 수식 함수\n",
    "    3개의 양수가 입력 값으로 주어질 때, 아래와 같은 <나만의 수식 함수 f>의 결과를 반환(return)하는 함수를 작성하세요.\n",
    "\n",
    "    f(x,y,z) = ((x+y) - z)*((x+y) - z)\n",
    "\n",
    "\n",
    "    제약조건\n",
    "    (+), (-), (*)각각의 기본 기능을 함수로 구현한 결과를 조합해서 구현하세요.(add, substract, multiply)"
   ]
  },
  {
   "cell_type": "code",
   "execution_count": 23,
   "metadata": {
    "ExecuteTime": {
     "end_time": "2021-10-18T12:35:58.087871Z",
     "start_time": "2021-10-18T12:35:58.083871Z"
    }
   },
   "outputs": [
    {
     "data": {
      "text/plain": [
       "1"
      ]
     },
     "execution_count": 23,
     "metadata": {},
     "output_type": "execute_result"
    }
   ],
   "source": [
    "def f(x,y,z):\n",
    "    return ((x+y) - z)*((x+y) - z)\n",
    "\n",
    "f(1,2,4)"
   ]
  },
  {
   "cell_type": "code",
   "execution_count": 10,
   "metadata": {},
   "outputs": [
    {
     "data": {
      "text/plain": [
       "16"
      ]
     },
     "execution_count": 10,
     "metadata": {},
     "output_type": "execute_result"
    }
   ],
   "source": [
    "def add(x, y):\n",
    "    return x+y\n",
    "\n",
    "def substract(x, y):\n",
    "    return x-y\n",
    "\n",
    "def multiply(x, y):\n",
    "    return x*y\n",
    "\n",
    "def solution(x, y, z):\n",
    "    return multiply(substract(add(x,y),z),substract(add(x,y),z))\n",
    "\n",
    "solution(3,2,1)\n",
    "\n",
    "#각 함수의 argument x,y는 지정된 값이 아니라 그 함수에서 쓰는 argument의 위치느낌인가요?\n"
   ]
  },
  {
   "cell_type": "markdown",
   "metadata": {},
   "source": [
    "## 체지량 지수\n",
    "    체질량 지수(體質量指數, body mass index, BMI)는인간의 비만도를 나타내는 지수로,\n",
    "\n",
    "    체중과키의 관계로 계산된다.\n",
    "\n",
    "    키가 t 미터,체중이 w 킬로그램일 때, BMI는 다음과 같다.\n",
    "\n",
    "    (단, 키의 단위가센티미터가 아닌 미터임에 유의해야 한다.)"
   ]
  },
  {
   "cell_type": "markdown",
   "metadata": {},
   "source": [
    "$\n",
    "BMI = \\frac{w}{t^2}\n",
    "$\n",
    "\n",
    "\n",
    "\n",
    "    키, 체중을 입력 받아 체질량 지수를 출력하는 프로그램을 구현하시오.\n",
    "\n",
    "    반드시 체질량 지수를 계산하는 로직을 함수로 작성하여 구현하시오.\n",
    "\n",
    "https://ko.wikipedia.org/wiki/체질량_지수\n",
    "\n",
    "    Input\n",
    "    첫째줄에 키(t)와 몸무게(w)가 차례로 입력됨\n",
    "\n",
    "    140 ≤ t ≤ 200\n",
    "\n",
    "    40 ≤ w ≤ 100\n",
    "\n",
    "\n",
    "    Output\n",
    "    체질량 지수를 소수점 첫째 자리까지 출력함"
   ]
  },
  {
   "cell_type": "code",
   "execution_count": 24,
   "metadata": {
    "ExecuteTime": {
     "end_time": "2021-10-18T12:35:55.219008Z",
     "start_time": "2021-10-18T12:35:55.215151Z"
    }
   },
   "outputs": [
    {
     "data": {
      "text/plain": [
       "23.4"
      ]
     },
     "execution_count": 24,
     "metadata": {},
     "output_type": "execute_result"
    }
   ],
   "source": [
    "def body_mass_index(t,w):\n",
    "    t_m = t/100\n",
    "    BMI = w/t_m**2\n",
    "    return round(BMI,1)\n",
    "\n",
    "body_mass_index(160, 60)"
   ]
  },
  {
   "cell_type": "code",
   "execution_count": 11,
   "metadata": {},
   "outputs": [],
   "source": [
    "def get_bmi(tall, weight):\n",
    "    tall = tall/100\n",
    "    BMI = weight/tall**2\n",
    "    return round(BMI,1)\n",
    "  \n",
    "def solution(tall, weight):\n",
    "    bmi=get_bmi(tall, weight)\n",
    "    return bmi"
   ]
  },
  {
   "cell_type": "markdown",
   "metadata": {},
   "source": [
    "## (도전!) 등차 수열의 합\n",
    "    자연수 n이 주어질때, 아래와 같은등차 수열의 합을 구하는 함수를 구현하세요.\n",
    "\n",
    "    f(n) = n + f(n-1)   \n",
    "\n",
    "\n",
    "    제약조건\n",
    "\n",
    "    재귀 함수를 활용해서 함수를 구현하시오.\n",
    "\n",
    "    f(1) = 1 입니다."
   ]
  },
  {
   "cell_type": "code",
   "execution_count": 3,
   "metadata": {
    "ExecuteTime": {
     "end_time": "2021-10-18T12:36:09.519257Z",
     "start_time": "2021-10-18T12:36:09.515835Z"
    }
   },
   "outputs": [
    {
     "data": {
      "text/plain": [
       "55"
      ]
     },
     "execution_count": 3,
     "metadata": {},
     "output_type": "execute_result"
    }
   ],
   "source": [
    "def f(n):\n",
    "    if n ==1 :\n",
    "        return 1\n",
    "    return n + f(n-1)\n",
    "\n",
    "f(10)"
   ]
  },
  {
   "cell_type": "code",
   "execution_count": null,
   "metadata": {},
   "outputs": [],
   "source": [
    "def recursive_fun(n):\n",
    "    if n == 1:\n",
    "       return 1\n",
    "    else:\n",
    "       return n + rescursive_fun(n-1)\n",
    "\n",
    "def solution(n):\n",
    "    a = recursive_fun(n)\n",
    "    return a"
   ]
  }
 ],
 "metadata": {
  "colab": {
   "name": "Untitled0.ipynb",
   "provenance": []
  },
  "hide_input": false,
  "kernelspec": {
   "display_name": "Python 3 (ipykernel)",
   "language": "python",
   "name": "python3"
  },
  "language_info": {
   "codemirror_mode": {
    "name": "ipython",
    "version": 3
   },
   "file_extension": ".py",
   "mimetype": "text/x-python",
   "name": "python",
   "nbconvert_exporter": "python",
   "pygments_lexer": "ipython3",
   "version": "3.9.13"
  },
  "latex_envs": {
   "LaTeX_envs_menu_present": true,
   "autoclose": false,
   "autocomplete": true,
   "bibliofile": "biblio.bib",
   "cite_by": "apalike",
   "current_citInitial": 1,
   "eqLabelWithNumbers": true,
   "eqNumInitial": 1,
   "hotkeys": {
    "equation": "Ctrl-E",
    "itemize": "Ctrl-I"
   },
   "labels_anchors": false,
   "latex_user_defs": false,
   "report_style_numbering": false,
   "user_envs_cfg": false
  },
  "toc": {
   "base_numbering": 1,
   "nav_menu": {},
   "number_sections": true,
   "sideBar": true,
   "skip_h1_title": false,
   "title_cell": "Chapter3",
   "title_sidebar": "Contents",
   "toc_cell": true,
   "toc_position": {
    "height": "calc(100% - 180px)",
    "left": "10px",
    "top": "150px",
    "width": "215px"
   },
   "toc_section_display": true,
   "toc_window_display": true
  },
  "varInspector": {
   "cols": {
    "lenName": 16,
    "lenType": 16,
    "lenVar": 40
   },
   "kernels_config": {
    "python": {
     "delete_cmd_postfix": "",
     "delete_cmd_prefix": "del ",
     "library": "var_list.py",
     "varRefreshCmd": "print(var_dic_list())"
    },
    "r": {
     "delete_cmd_postfix": ") ",
     "delete_cmd_prefix": "rm(",
     "library": "var_list.r",
     "varRefreshCmd": "cat(var_dic_list()) "
    }
   },
   "types_to_exclude": [
    "module",
    "function",
    "builtin_function_or_method",
    "instance",
    "_Feature"
   ],
   "window_display": false
  }
 },
 "nbformat": 4,
 "nbformat_minor": 1
}
