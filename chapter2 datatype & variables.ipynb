{
 "cells": [
  {
   "cell_type": "markdown",
   "metadata": {
    "toc": true
   },
   "source": [
    "<h1>Chapter2<span class=\"tocSkip\"></span></h1>\n",
    "<div class=\"toc\"><ul class=\"toc-item\"><li><span><a href=\"#basic-print\" data-toc-modified-id=\"basic-print-1\"><span class=\"toc-item-num\">1&nbsp;&nbsp;</span>basic print</a></span></li><li><span><a href=\"#variable\" data-toc-modified-id=\"variable-2\"><span class=\"toc-item-num\">2&nbsp;&nbsp;</span>variable</a></span><ul class=\"toc-item\"><li><span><a href=\"#example\" data-toc-modified-id=\"example-2.1\"><span class=\"toc-item-num\">2.1&nbsp;&nbsp;</span>example</a></span></li><li><span><a href=\"#variable-naming-role\" data-toc-modified-id=\"variable-naming-role-2.2\"><span class=\"toc-item-num\">2.2&nbsp;&nbsp;</span>variable naming role</a></span></li><li><span><a href=\"#variable-naming-error-case\" data-toc-modified-id=\"variable-naming-error-case-2.3\"><span class=\"toc-item-num\">2.3&nbsp;&nbsp;</span>variable naming error case</a></span></li></ul></li><li><span><a href=\"#dataType\" data-toc-modified-id=\"dataType-3\"><span class=\"toc-item-num\">3&nbsp;&nbsp;</span>dataType</a></span><ul class=\"toc-item\"><li><span><a href=\"#basic\" data-toc-modified-id=\"basic-3.1\"><span class=\"toc-item-num\">3.1&nbsp;&nbsp;</span>basic</a></span></li><li><span><a href=\"#operation\" data-toc-modified-id=\"operation-3.2\"><span class=\"toc-item-num\">3.2&nbsp;&nbsp;</span>operation</a></span></li><li><span><a href=\"#TIP\" data-toc-modified-id=\"TIP-3.3\"><span class=\"toc-item-num\">3.3&nbsp;&nbsp;</span>TIP</a></span><ul class=\"toc-item\"><li><span><a href=\"#**round\" data-toc-modified-id=\"**round-3.3.1\"><span class=\"toc-item-num\">3.3.1&nbsp;&nbsp;</span>**round</a></span></li><li><span><a href=\"#**값을-바꾸기\" data-toc-modified-id=\"**값을-바꾸기-3.3.2\"><span class=\"toc-item-num\">3.3.2&nbsp;&nbsp;</span>**값을 바꾸기</a></span></li></ul></li><li><span><a href=\"#data-conversion\" data-toc-modified-id=\"data-conversion-3.4\"><span class=\"toc-item-num\">3.4&nbsp;&nbsp;</span>data conversion</a></span><ul class=\"toc-item\"><li><span><a href=\"#check-data-type\" data-toc-modified-id=\"check-data-type-3.4.1\"><span class=\"toc-item-num\">3.4.1&nbsp;&nbsp;</span>check data type</a></span></li><li><span><a href=\"#int--->-float\" data-toc-modified-id=\"int--->-float-3.4.2\"><span class=\"toc-item-num\">3.4.2&nbsp;&nbsp;</span>int --&gt; float</a></span></li><li><span><a href=\"#float--->-int\" data-toc-modified-id=\"float--->-int-3.4.3\"><span class=\"toc-item-num\">3.4.3&nbsp;&nbsp;</span>float --&gt; int</a></span></li><li><span><a href=\"#float-or-int--<-->-string(or-char)\" data-toc-modified-id=\"float-or-int--<-->-string(or-char)-3.4.4\"><span class=\"toc-item-num\">3.4.4&nbsp;&nbsp;</span>float or int  &lt;--&gt; string(or char)</a></span></li><li><span><a href=\"#dynamic-casting\" data-toc-modified-id=\"dynamic-casting-3.4.5\"><span class=\"toc-item-num\">3.4.5&nbsp;&nbsp;</span>dynamic casting</a></span></li></ul></li></ul></li><li><span><a href=\"#example(coding-test)\" data-toc-modified-id=\"example(coding-test)-4\"><span class=\"toc-item-num\">4&nbsp;&nbsp;</span>example(coding test)</a></span></li></ul></div>"
   ]
  },
  {
   "cell_type": "markdown",
   "metadata": {},
   "source": [
    "# basic print"
   ]
  },
  {
   "cell_type": "markdown",
   "metadata": {},
   "source": [
    "    "
   ]
  },
  {
   "cell_type": "code",
   "execution_count": 1,
   "metadata": {
    "ExecuteTime": {
     "end_time": "2021-08-30T22:38:43.934062Z",
     "start_time": "2021-08-30T22:38:43.926524Z"
    }
   },
   "outputs": [
    {
     "name": "stdout",
     "output_type": "stream",
     "text": [
      "hello world\n"
     ]
    }
   ],
   "source": [
    "# 다앙한 사례로부터 찾아내는 것 : 추상화\n",
    "# x : 셀 잘라내기\n",
    "# Y : code cell\n",
    "# c : copy\n",
    "# v : paste\n",
    "# b : cell 생성\n",
    "print(\"hello world\") "
   ]
  },
  {
   "cell_type": "code",
   "execution_count": 2,
   "metadata": {},
   "outputs": [
    {
     "data": {
      "text/plain": [
       "'hello world'"
      ]
     },
     "execution_count": 2,
     "metadata": {},
     "output_type": "execute_result"
    }
   ],
   "source": [
    "\"hello world\""
   ]
  },
  {
   "cell_type": "markdown",
   "metadata": {},
   "source": [
    "# variable"
   ]
  },
  {
   "cell_type": "markdown",
   "metadata": {},
   "source": [
    "## example"
   ]
  },
  {
   "cell_type": "code",
   "execution_count": 3,
   "metadata": {
    "ExecuteTime": {
     "end_time": "2021-08-30T22:34:45.554002Z",
     "start_time": "2021-08-30T22:34:45.544915Z"
    }
   },
   "outputs": [
    {
     "data": {
      "text/plain": [
       "'chris cho'"
      ]
     },
     "execution_count": 3,
     "metadata": {},
     "output_type": "execute_result"
    }
   ],
   "source": [
    "my_name = 'chris cho'\n",
    "my_name"
   ]
  },
  {
   "cell_type": "code",
   "execution_count": 4,
   "metadata": {},
   "outputs": [
    {
     "name": "stdout",
     "output_type": "stream",
     "text": [
      "9\n"
     ]
    }
   ],
   "source": [
    "a=7\n",
    "b=2\n",
    "print(a+b)"
   ]
  },
  {
   "cell_type": "code",
   "execution_count": null,
   "metadata": {},
   "outputs": [],
   "source": [
    "a=7\n",
    "b=2\n",
    "print(\"a+b\")"
   ]
  },
  {
   "cell_type": "code",
   "execution_count": 5,
   "metadata": {
    "scrolled": true
   },
   "outputs": [
    {
     "name": "stdout",
     "output_type": "stream",
     "text": [
      "a+b\n"
     ]
    }
   ],
   "source": [
    "a=7\n",
    "b=2\n",
    "print(\"a+b\")"
   ]
  },
  {
   "cell_type": "markdown",
   "metadata": {},
   "source": [
    "## variable naming role"
   ]
  },
  {
   "cell_type": "code",
   "execution_count": null,
   "metadata": {
    "ExecuteTime": {
     "end_time": "2021-08-30T22:35:21.132546Z",
     "start_time": "2021-08-30T22:35:21.130046Z"
    }
   },
   "outputs": [],
   "source": [
    "# 소문자와 언더바 / 명사형태로\n",
    "# 앞에 숫자 넣으면 안됨\n",
    "good_name_role = 3\n",
    "number = 3\n",
    "num = 4\n",
    "#객체명은\n",
    "NiceClass = 3"
   ]
  },
  {
   "cell_type": "markdown",
   "metadata": {},
   "source": [
    "## variable naming error case\n"
   ]
  },
  {
   "cell_type": "code",
   "execution_count": 8,
   "metadata": {
    "ExecuteTime": {
     "end_time": "2021-10-18T12:27:56.036684Z",
     "start_time": "2021-10-18T12:27:56.032586Z"
    },
    "hide_input": false,
    "scrolled": true
   },
   "outputs": [
    {
     "ename": "SyntaxError",
     "evalue": "invalid syntax (3903643053.py, line 1)",
     "output_type": "error",
     "traceback": [
      "\u001b[1;36m  File \u001b[1;32m\"C:\\Users\\yoony\\AppData\\Local\\Temp\\ipykernel_26044\\3903643053.py\"\u001b[1;36m, line \u001b[1;32m1\u001b[0m\n\u001b[1;33m    1dfdf = 3\u001b[0m\n\u001b[1;37m     ^\u001b[0m\n\u001b[1;31mSyntaxError\u001b[0m\u001b[1;31m:\u001b[0m invalid syntax\n"
     ]
    }
   ],
   "source": [
    "1dfdf = 3\n",
    "if = 4"
   ]
  },
  {
   "cell_type": "markdown",
   "metadata": {},
   "source": [
    "# dataType"
   ]
  },
  {
   "cell_type": "markdown",
   "metadata": {},
   "source": [
    "## basic"
   ]
  },
  {
   "cell_type": "code",
   "execution_count": null,
   "metadata": {
    "ExecuteTime": {
     "end_time": "2021-10-18T12:28:12.738054Z",
     "start_time": "2021-10-18T12:28:12.735505Z"
    }
   },
   "outputs": [],
   "source": [
    "'a'\n",
    "\"a\"\n",
    "'''a'''\n",
    "#동적 타이핑 : 컴터 언어자체에서 데이터 타입을 결정하므로 그냥 치면 변수선언이 된다"
   ]
  },
  {
   "cell_type": "markdown",
   "metadata": {},
   "source": [
    "## operation"
   ]
  },
  {
   "cell_type": "code",
   "execution_count": 15,
   "metadata": {
    "ExecuteTime": {
     "end_time": "2021-10-18T12:28:16.208114Z",
     "start_time": "2021-10-18T12:28:16.199983Z"
    }
   },
   "outputs": [
    {
     "name": "stdout",
     "output_type": "stream",
     "text": [
      "1 1\n",
      "<class 'int'>\n"
     ]
    }
   ],
   "source": [
    "a = 1\n",
    "b = 1\n",
    "print(a,b)\n",
    "print(type(a))"
   ]
  },
  {
   "cell_type": "code",
   "execution_count": null,
   "metadata": {},
   "outputs": [],
   "source": [
    "a = 1.5\n",
    "b = 3.5\n",
    "print(a,b)"
   ]
  },
  {
   "cell_type": "code",
   "execution_count": null,
   "metadata": {},
   "outputs": [],
   "source": [
    "a = 'ABC'\n",
    "b = \"101010\"\n",
    "print(a,b)"
   ]
  },
  {
   "cell_type": "code",
   "execution_count": 16,
   "metadata": {},
   "outputs": [
    {
     "name": "stdout",
     "output_type": "stream",
     "text": [
      "True False\n",
      "True <class 'bool'>\n"
     ]
    }
   ],
   "source": [
    "a = True\n",
    "b = False\n",
    "print(a,b)\n",
    "print(a, type(a))"
   ]
  },
  {
   "cell_type": "code",
   "execution_count": 20,
   "metadata": {},
   "outputs": [
    {
     "name": "stdout",
     "output_type": "stream",
     "text": [
      "-5\n",
      "867361737988403547205962240695953369140625\n",
      "0\n",
      "25\n"
     ]
    }
   ],
   "source": [
    "a = 25\n",
    "b = 30\n",
    "print(a-b)\n",
    "print(a**b)\n",
    "print(a//b)\n",
    "print(a%b)"
   ]
  },
  {
   "cell_type": "code",
   "execution_count": 21,
   "metadata": {},
   "outputs": [
    {
     "data": {
      "text/plain": [
       "26"
      ]
     },
     "execution_count": 21,
     "metadata": {},
     "output_type": "execute_result"
    }
   ],
   "source": [
    "a=a+1\n",
    "a"
   ]
  },
  {
   "cell_type": "code",
   "execution_count": 22,
   "metadata": {},
   "outputs": [
    {
     "data": {
      "text/plain": [
       "27"
      ]
     },
     "execution_count": 22,
     "metadata": {},
     "output_type": "execute_result"
    }
   ],
   "source": [
    "a +=1\n",
    "a"
   ]
  },
  {
   "cell_type": "code",
   "execution_count": 24,
   "metadata": {},
   "outputs": [
    {
     "data": {
      "text/plain": [
       "729"
      ]
     },
     "execution_count": 24,
     "metadata": {},
     "output_type": "execute_result"
    }
   ],
   "source": [
    "a **= 2\n",
    "a"
   ]
  },
  {
   "cell_type": "code",
   "execution_count": 26,
   "metadata": {},
   "outputs": [
    {
     "name": "stdout",
     "output_type": "stream",
     "text": [
      "<class 'float'>\n"
     ]
    }
   ],
   "source": [
    "a = 30\n",
    "b = 4\n",
    "a/b\n",
    "print(type(a/b))"
   ]
  },
  {
   "cell_type": "markdown",
   "metadata": {},
   "source": [
    "## TIP"
   ]
  },
  {
   "cell_type": "code",
   "execution_count": 27,
   "metadata": {
    "ExecuteTime": {
     "end_time": "2021-10-18T12:28:40.921962Z",
     "start_time": "2021-10-18T12:28:40.918579Z"
    }
   },
   "outputs": [
    {
     "data": {
      "text/plain": [
       "0.3333333333333333"
      ]
     },
     "execution_count": 27,
     "metadata": {},
     "output_type": "execute_result"
    }
   ],
   "source": [
    "# float는 생각보다 부정확하다. 유한한 공간에서 무한을 나타내기 때문.\n",
    "1/3"
   ]
  },
  {
   "cell_type": "code",
   "execution_count": 28,
   "metadata": {},
   "outputs": [
    {
     "data": {
      "text/plain": [
       "20230314124023.125"
      ]
     },
     "execution_count": 28,
     "metadata": {},
     "output_type": "execute_result"
    }
   ],
   "source": [
    "20230314124023.12332323232"
   ]
  },
  {
   "cell_type": "code",
   "execution_count": 30,
   "metadata": {},
   "outputs": [
    {
     "data": {
      "text/plain": [
       "Decimal('40460628248046.24664646464')"
      ]
     },
     "execution_count": 30,
     "metadata": {},
     "output_type": "execute_result"
    }
   ],
   "source": [
    "# 정밀한 소수점을 위해서 decimal이라는 패키지가 있음\n",
    "from decimal import Decimal\n",
    "Decimal(\"20230314124023.12332323232\")*2"
   ]
  },
  {
   "cell_type": "code",
   "execution_count": 32,
   "metadata": {},
   "outputs": [
    {
     "name": "stdout",
     "output_type": "stream",
     "text": [
      "3 7\n",
      "7 3\n"
     ]
    }
   ],
   "source": [
    "#a와 b의 값을 바꾸기. 임시 데이터를 사용하기\n",
    "a=3\n",
    "b=7\n",
    "print(a,b)\n",
    "temp = b\n",
    "b = a\n",
    "a = temp\n",
    "print(a,b)"
   ]
  },
  {
   "cell_type": "code",
   "execution_count": 34,
   "metadata": {},
   "outputs": [
    {
     "ename": "TypeError",
     "evalue": "can only concatenate str (not \"float\") to str",
     "output_type": "error",
     "traceback": [
      "\u001b[1;31m---------------------------------------------------------------------------\u001b[0m",
      "\u001b[1;31mTypeError\u001b[0m                                 Traceback (most recent call last)",
      "\u001b[1;32m~\\AppData\\Local\\Temp\\ipykernel_26044\\3609074835.py\u001b[0m in \u001b[0;36m<module>\u001b[1;34m\u001b[0m\n\u001b[0;32m      2\u001b[0m \u001b[0mb\u001b[0m \u001b[1;33m=\u001b[0m \u001b[1;36m77.7\u001b[0m\u001b[1;33m\u001b[0m\u001b[1;33m\u001b[0m\u001b[0m\n\u001b[0;32m      3\u001b[0m \u001b[1;33m\u001b[0m\u001b[0m\n\u001b[1;32m----> 4\u001b[1;33m \u001b[0ma\u001b[0m\u001b[1;33m+\u001b[0m\u001b[0mb\u001b[0m\u001b[1;33m\u001b[0m\u001b[1;33m\u001b[0m\u001b[0m\n\u001b[0m\u001b[0;32m      5\u001b[0m \u001b[1;33m\u001b[0m\u001b[0m\n\u001b[0;32m      6\u001b[0m \u001b[1;31m#형 변환이 필요하다\u001b[0m\u001b[1;33m\u001b[0m\u001b[1;33m\u001b[0m\u001b[0m\n",
      "\u001b[1;31mTypeError\u001b[0m: can only concatenate str (not \"float\") to str"
     ]
    }
   ],
   "source": [
    "a = '77.7'\n",
    "b = 77.7\n",
    "\n",
    "a+b\n",
    "\n",
    "#형 변환이 필요하다\n",
    "\n",
    "a = float('77.7')\n",
    "b = 77.7\n",
    "\n",
    "a+b"
   ]
  },
  {
   "cell_type": "code",
   "execution_count": 35,
   "metadata": {},
   "outputs": [
    {
     "data": {
      "text/plain": [
       "'77.777.7'"
      ]
     },
     "execution_count": 35,
     "metadata": {},
     "output_type": "execute_result"
    }
   ],
   "source": [
    "a = '77.7'\n",
    "b = '77.7'\n",
    "a+b"
   ]
  },
  {
   "cell_type": "markdown",
   "metadata": {},
   "source": [
    "### **round"
   ]
  },
  {
   "cell_type": "code",
   "execution_count": 36,
   "metadata": {
    "ExecuteTime": {
     "end_time": "2021-10-18T12:29:01.294574Z",
     "start_time": "2021-10-18T12:29:01.291057Z"
    }
   },
   "outputs": [
    {
     "data": {
      "text/plain": [
       "3.46"
      ]
     },
     "execution_count": 36,
     "metadata": {},
     "output_type": "execute_result"
    }
   ],
   "source": [
    "#반올림을 해줌\n",
    "round(3.45632,2)"
   ]
  },
  {
   "cell_type": "markdown",
   "metadata": {},
   "source": [
    "### **값을 바꾸기"
   ]
  },
  {
   "cell_type": "code",
   "execution_count": null,
   "metadata": {
    "ExecuteTime": {
     "end_time": "2021-10-18T12:29:29.946020Z",
     "start_time": "2021-10-18T12:29:29.943059Z"
    }
   },
   "outputs": [],
   "source": []
  },
  {
   "cell_type": "markdown",
   "metadata": {},
   "source": [
    "## data conversion"
   ]
  },
  {
   "cell_type": "markdown",
   "metadata": {},
   "source": [
    "### check data type"
   ]
  },
  {
   "cell_type": "code",
   "execution_count": 37,
   "metadata": {
    "ExecuteTime": {
     "end_time": "2021-10-18T12:30:03.382419Z",
     "start_time": "2021-10-18T12:30:03.379197Z"
    }
   },
   "outputs": [
    {
     "data": {
      "text/plain": [
       "float"
      ]
     },
     "execution_count": 37,
     "metadata": {},
     "output_type": "execute_result"
    }
   ],
   "source": [
    "type(3.14)"
   ]
  },
  {
   "cell_type": "markdown",
   "metadata": {},
   "source": [
    "### int --> float"
   ]
  },
  {
   "cell_type": "code",
   "execution_count": 38,
   "metadata": {
    "ExecuteTime": {
     "end_time": "2021-10-18T12:30:05.395633Z",
     "start_time": "2021-10-18T12:30:05.393023Z"
    }
   },
   "outputs": [
    {
     "data": {
      "text/plain": [
       "3.0"
      ]
     },
     "execution_count": 38,
     "metadata": {},
     "output_type": "execute_result"
    }
   ],
   "source": [
    "float(3)"
   ]
  },
  {
   "cell_type": "markdown",
   "metadata": {},
   "source": [
    "### float --> int"
   ]
  },
  {
   "cell_type": "code",
   "execution_count": 41,
   "metadata": {
    "ExecuteTime": {
     "end_time": "2021-10-18T12:30:09.724977Z",
     "start_time": "2021-10-18T12:30:09.721927Z"
    }
   },
   "outputs": [
    {
     "data": {
      "text/plain": [
       "3"
      ]
     },
     "execution_count": 41,
     "metadata": {},
     "output_type": "execute_result"
    }
   ],
   "source": [
    "#버림\n",
    "int(3.14)"
   ]
  },
  {
   "cell_type": "markdown",
   "metadata": {},
   "source": [
    "### float or int  <--> string(or char)"
   ]
  },
  {
   "cell_type": "code",
   "execution_count": 44,
   "metadata": {
    "ExecuteTime": {
     "end_time": "2021-10-18T12:29:35.223301Z",
     "start_time": "2021-10-18T12:29:35.219923Z"
    }
   },
   "outputs": [
    {
     "name": "stdout",
     "output_type": "stream",
     "text": [
      "3.0 5\n",
      "3.0 <class 'str'>\n"
     ]
    }
   ],
   "source": [
    "float_a = 3.0\n",
    "int_a = 5\n",
    "print(str(float_a), str(int_a))\n",
    "str_a = str(float_a)\n",
    "print(str_a, type(str_a))"
   ]
  },
  {
   "cell_type": "markdown",
   "metadata": {},
   "source": [
    "### dynamic casting"
   ]
  },
  {
   "cell_type": "code",
   "execution_count": 45,
   "metadata": {
    "ExecuteTime": {
     "end_time": "2021-10-18T12:30:11.551194Z",
     "start_time": "2021-10-18T12:30:11.546648Z"
    }
   },
   "outputs": [
    {
     "name": "stdout",
     "output_type": "stream",
     "text": [
      "0.42857142857142855 <class 'float'>\n"
     ]
    }
   ],
   "source": [
    "int_a = 3\n",
    "int_b = 7\n",
    "int_c = int_a/int_b\n",
    "print(int_c, type(int_c))"
   ]
  },
  {
   "cell_type": "markdown",
   "metadata": {},
   "source": [
    "# example(coding test)\n",
    "http://13.124.240.246/contest/2   "
   ]
  },
  {
   "cell_type": "code",
   "execution_count": 50,
   "metadata": {
    "ExecuteTime": {
     "end_time": "2021-10-18T12:30:26.263156Z",
     "start_time": "2021-10-18T12:30:26.260332Z"
    }
   },
   "outputs": [
    {
     "data": {
      "text/plain": [
       "7"
      ]
     },
     "execution_count": 50,
     "metadata": {},
     "output_type": "execute_result"
    }
   ],
   "source": [
    "def solution(a,b):\n",
    "    return a+b\n",
    "solution(2,5)"
   ]
  },
  {
   "cell_type": "code",
   "execution_count": 47,
   "metadata": {},
   "outputs": [
    {
     "data": {
      "text/plain": [
       "7"
      ]
     },
     "execution_count": 47,
     "metadata": {},
     "output_type": "execute_result"
    }
   ],
   "source": [
    "c=2\n",
    "d=5\n",
    "c+d"
   ]
  },
  {
   "cell_type": "code",
   "execution_count": null,
   "metadata": {},
   "outputs": [],
   "source": [
    "def solution(a,b):\n",
    "    a=3\n",
    "    b=1\n",
    "    ret = a+b\n",
    "    return ret\n",
    "\n",
    "#어떤 a랑 b를 넣든 모든 값의 solution을 다 4로 반환하기 때문에 통과가 안 됨"
   ]
  },
  {
   "cell_type": "code",
   "execution_count": 55,
   "metadata": {},
   "outputs": [
    {
     "data": {
      "text/plain": [
       "45"
      ]
     },
     "execution_count": 55,
     "metadata": {},
     "output_type": "execute_result"
    }
   ],
   "source": [
    "def solution(k):\n",
    "    a = k*1\n",
    "    b = k*2\n",
    "    c = k*3\n",
    "    d = k*4\n",
    "    e = k*5\n",
    "    f = k*6\n",
    "    g = k*7\n",
    "    h = k*8\n",
    "    i = k*9\n",
    "\n",
    "    return a+b+c+d+e+f+g+h+i\n",
    "\n",
    "solution(1)\n",
    "    \n",
    "    \n",
    "#누적으로 해보라\n",
    "\n",
    "ret += k*1\n",
    "ret += k*2"
   ]
  },
  {
   "cell_type": "code",
   "execution_count": 57,
   "metadata": {},
   "outputs": [
    {
     "data": {
      "text/plain": [
       "50.0"
      ]
     },
     "execution_count": 57,
     "metadata": {},
     "output_type": "execute_result"
    }
   ],
   "source": [
    "def solution(part, whole):\n",
    "    hundred = part / whole\n",
    "    return round(hundred*100, 1)\n",
    "solution(2,4)"
   ]
  },
  {
   "cell_type": "code",
   "execution_count": 58,
   "metadata": {},
   "outputs": [
    {
     "data": {
      "text/plain": [
       "2.83"
      ]
     },
     "execution_count": 58,
     "metadata": {},
     "output_type": "execute_result"
    }
   ],
   "source": [
    "def solution(src_x, src_y, ref_x, ref_y):\n",
    "    first = (ref_x-src_x)**2\n",
    "    second = (ref_y-src_y)**2\n",
    "    distance = (first + second)**(1/2)\n",
    "    return round(distance, 2)\n",
    "\n",
    "solution(1,1,3,3)"
   ]
  },
  {
   "cell_type": "code",
   "execution_count": 78,
   "metadata": {},
   "outputs": [
    {
     "data": {
      "text/plain": [
       "59000"
      ]
     },
     "execution_count": 78,
     "metadata": {},
     "output_type": "execute_result"
    }
   ],
   "source": [
    "def solution(init_amount, buy_amount, sell_amount):\n",
    "    count = init_amount / buy_amount\n",
    "    count = count + (count//5)        \n",
    "    contrast = sell_amount *count - init_amount\n",
    "    return int(contrast)\n",
    "\n",
    "solution(1000, 200, 10000)\n",
    "    "
   ]
  },
  {
   "cell_type": "code",
   "execution_count": 73,
   "metadata": {},
   "outputs": [
    {
     "data": {
      "text/plain": [
       "30000"
      ]
     },
     "execution_count": 73,
     "metadata": {},
     "output_type": "execute_result"
    }
   ],
   "source": [
    "def solution(init_amount, buy_amount, sell_amount):\n",
    "    count = init_amount / buy_amount\n",
    "    if count // 5 > 0 :\n",
    "        count = count + (count//5) \n",
    "    contrast = sell_amount *count - init_amount\n",
    "    return int(contrast)\n",
    "\n",
    "solution(10000, 2500, 10000)\n"
   ]
  },
  {
   "cell_type": "code",
   "execution_count": 80,
   "metadata": {},
   "outputs": [
    {
     "name": "stdout",
     "output_type": "stream",
     "text": [
      "1400\n"
     ]
    }
   ],
   "source": [
    "init_amount = 1000\n",
    "buy_amount = 200\n",
    "sell_amount = 400\n",
    "\n",
    "count = init_amount / buy_amount\n",
    "count += count//5\n",
    "\n",
    "ret = int(sell_amount*count - init_amount)\n",
    "\n",
    "print(ret)"
   ]
  }
 ],
 "metadata": {
  "colab": {
   "name": "Untitled0.ipynb",
   "provenance": []
  },
  "hide_input": false,
  "kernelspec": {
   "display_name": "Python 3 (ipykernel)",
   "language": "python",
   "name": "python3"
  },
  "language_info": {
   "codemirror_mode": {
    "name": "ipython",
    "version": 3
   },
   "file_extension": ".py",
   "mimetype": "text/x-python",
   "name": "python",
   "nbconvert_exporter": "python",
   "pygments_lexer": "ipython3",
   "version": "3.9.13"
  },
  "latex_envs": {
   "LaTeX_envs_menu_present": true,
   "autoclose": false,
   "autocomplete": true,
   "bibliofile": "biblio.bib",
   "cite_by": "apalike",
   "current_citInitial": 1,
   "eqLabelWithNumbers": true,
   "eqNumInitial": 1,
   "hotkeys": {
    "equation": "Ctrl-E",
    "itemize": "Ctrl-I"
   },
   "labels_anchors": false,
   "latex_user_defs": false,
   "report_style_numbering": false,
   "user_envs_cfg": false
  },
  "toc": {
   "base_numbering": 1,
   "nav_menu": {},
   "number_sections": true,
   "sideBar": false,
   "skip_h1_title": false,
   "title_cell": "Chapter2",
   "title_sidebar": "Contents",
   "toc_cell": true,
   "toc_position": {
    "height": "1169px",
    "left": "23px",
    "top": "110px",
    "width": "224px"
   },
   "toc_section_display": false,
   "toc_window_display": true
  },
  "varInspector": {
   "cols": {
    "lenName": 16,
    "lenType": 16,
    "lenVar": 40
   },
   "kernels_config": {
    "python": {
     "delete_cmd_postfix": "",
     "delete_cmd_prefix": "del ",
     "library": "var_list.py",
     "varRefreshCmd": "print(var_dic_list())"
    },
    "r": {
     "delete_cmd_postfix": ") ",
     "delete_cmd_prefix": "rm(",
     "library": "var_list.r",
     "varRefreshCmd": "cat(var_dic_list()) "
    }
   },
   "types_to_exclude": [
    "module",
    "function",
    "builtin_function_or_method",
    "instance",
    "_Feature"
   ],
   "window_display": false
  }
 },
 "nbformat": 4,
 "nbformat_minor": 1
}
